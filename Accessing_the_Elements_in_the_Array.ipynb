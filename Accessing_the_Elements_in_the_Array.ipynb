{
  "nbformat": 4,
  "nbformat_minor": 0,
  "metadata": {
    "colab": {
      "provenance": [],
      "authorship_tag": "ABX9TyOmBKnGmyOAR4rXjaL9Es86",
      "include_colab_link": true
    },
    "kernelspec": {
      "name": "python3",
      "display_name": "Python 3"
    },
    "language_info": {
      "name": "python"
    }
  },
  "cells": [
    {
      "cell_type": "markdown",
      "metadata": {
        "id": "view-in-github",
        "colab_type": "text"
      },
      "source": [
        "<a href=\"https://colab.research.google.com/github/RenzDomingo/PLNG211-2-OLFU-QC/blob/main/Accessing_the_Elements_in_the_Array.ipynb\" target=\"_parent\"><img src=\"https://colab.research.google.com/assets/colab-badge.svg\" alt=\"Open In Colab\"/></a>"
      ]
    },
    {
      "cell_type": "code",
      "source": [
        "#Accessing the Elements in the Array\n",
        "animals = ['cat', 'dog', 'fish']\n",
        "x = animals[0]\t\n",
        "print(\"The list of animals in an array are\", animals)\n",
        "print(\"The animal in animals [0] is:\" ,x)\n"
      ],
      "metadata": {
        "colab": {
          "base_uri": "https://localhost:8080/"
        },
        "id": "GiRhpnLbPPUd",
        "outputId": "543c3131-b91b-4aec-9a58-078cbd8aea34"
      },
      "execution_count": 1,
      "outputs": [
        {
          "output_type": "stream",
          "name": "stdout",
          "text": [
            "The list of animals in an array are ['cat', 'dog', 'fish']\n",
            "The animal in animals [0] is: cat\n"
          ]
        }
      ]
    },
    {
      "cell_type": "code",
      "source": [
        "#modifying Elements in the Array\n",
        "animals = ['cat', 'dog', 'fish']\n",
        "animals[1] = 'monkey'\n",
        "print(animals)\n"
      ],
      "metadata": {
        "colab": {
          "base_uri": "https://localhost:8080/"
        },
        "id": "RY3guaN2PhbR",
        "outputId": "015b5f7a-5712-4960-cd1d-4bab994a956b"
      },
      "execution_count": 4,
      "outputs": [
        {
          "output_type": "stream",
          "name": "stdout",
          "text": [
            "['cat', 'monkey', 'fish']\n"
          ]
        }
      ]
    },
    {
      "cell_type": "code",
      "source": [
        "#Lenght of the Array \n",
        "animals = ['cat', 'dog', 'fish']\n",
        "x = len(animals)\n",
        "print(x)\n"
      ],
      "metadata": {
        "colab": {
          "base_uri": "https://localhost:8080/"
        },
        "id": "gVsROLWbP0MS",
        "outputId": "755b580e-716f-499a-849f-2a18cc74e664"
      },
      "execution_count": 5,
      "outputs": [
        {
          "output_type": "stream",
          "name": "stdout",
          "text": [
            "3\n"
          ]
        }
      ]
    },
    {
      "cell_type": "code",
      "source": [
        "#Looping Array Elements\n",
        "verbs = ['jumping', 'eating', 'swimming']\n",
        "animals = ['cat', 'dog', 'fish']\n",
        "for k in verbs:\n",
        " for j in animals:\n",
        "   print(k,j)\n"
      ],
      "metadata": {
        "colab": {
          "base_uri": "https://localhost:8080/"
        },
        "id": "0FuDYh7PP2d6",
        "outputId": "040690e2-53ae-4e6d-918e-0289391ec81e"
      },
      "execution_count": 6,
      "outputs": [
        {
          "output_type": "stream",
          "name": "stdout",
          "text": [
            "jumping cat\n",
            "jumping dog\n",
            "jumping fish\n",
            "eating cat\n",
            "eating dog\n",
            "eating fish\n",
            "swimming cat\n",
            "swimming dog\n",
            "swimming fish\n"
          ]
        }
      ]
    },
    {
      "cell_type": "code",
      "source": [
        "#Append the Element in the Array\n",
        "\n",
        "animals = ['cat','dog', 'fish']\n",
        "animals.append(\"monkey\")\n",
        "print(animals)\n"
      ],
      "metadata": {
        "colab": {
          "base_uri": "https://localhost:8080/"
        },
        "id": "4BG9ATQrP6r0",
        "outputId": "dda6a346-4260-4bca-90ea-c8d2e9aa56c4"
      },
      "execution_count": 7,
      "outputs": [
        {
          "output_type": "stream",
          "name": "stdout",
          "text": [
            "['cat', 'dog', 'fish', 'monkey']\n"
          ]
        }
      ]
    },
    {
      "cell_type": "code",
      "source": [
        "#Insert an Element in an array list\n",
        "animals = ['cat', 'dog', 'fish']\n",
        "animals.insert(0,'bird')\n",
        "print(animals)\n"
      ],
      "metadata": {
        "colab": {
          "base_uri": "https://localhost:8080/"
        },
        "id": "NpwZ9KZ4P8-G",
        "outputId": "3eeb1abe-cf1a-4c47-fc4a-013c77000fdd"
      },
      "execution_count": 8,
      "outputs": [
        {
          "output_type": "stream",
          "name": "stdout",
          "text": [
            "['bird', 'cat', 'dog', 'fish']\n"
          ]
        }
      ]
    },
    {
      "cell_type": "code",
      "source": [
        "#Remove an element in the Array list\n",
        "animals.pop(1)\n",
        "print(animals)\n"
      ],
      "metadata": {
        "colab": {
          "base_uri": "https://localhost:8080/"
        },
        "id": "f2DfH_t2P_N9",
        "outputId": "d6c70686-9882-4f9b-b457-1d5388a7ce0d"
      },
      "execution_count": 9,
      "outputs": [
        {
          "output_type": "stream",
          "name": "stdout",
          "text": [
            "['bird', 'dog', 'fish']\n"
          ]
        }
      ]
    },
    {
      "cell_type": "code",
      "source": [
        "#Array module in Python\n",
        "#Append\n",
        "from array import *\n",
        "numbers = array('i', [1,2,3,4,5])\n",
        "numbers.typecode\n"
      ],
      "metadata": {
        "colab": {
          "base_uri": "https://localhost:8080/",
          "height": 36
        },
        "id": "QPPI2kBSQA-O",
        "outputId": "a17d400b-6a2e-4c8e-cd08-c79966ed8172"
      },
      "execution_count": 10,
      "outputs": [
        {
          "output_type": "execute_result",
          "data": {
            "text/plain": [
              "'i'"
            ],
            "application/vnd.google.colaboratory.intrinsic+json": {
              "type": "string"
            }
          },
          "metadata": {},
          "execution_count": 10
        }
      ]
    },
    {
      "cell_type": "code",
      "source": [
        "#Append\n",
        "from array import *\n",
        "numbers = array('i', [1,2,3,4,5,8,8,9,2,5,3])\n",
        "numbers.count(3)\n",
        "numbers.reverse()\n",
        "print(numbers)\n"
      ],
      "metadata": {
        "colab": {
          "base_uri": "https://localhost:8080/"
        },
        "id": "0yMsiC-CQDdc",
        "outputId": "f422fe0f-826e-41ec-9ce3-9f239079cdf6"
      },
      "execution_count": 11,
      "outputs": [
        {
          "output_type": "stream",
          "name": "stdout",
          "text": [
            "array('i', [3, 5, 2, 9, 8, 8, 5, 4, 3, 2, 1])\n"
          ]
        }
      ]
    }
  ]
}