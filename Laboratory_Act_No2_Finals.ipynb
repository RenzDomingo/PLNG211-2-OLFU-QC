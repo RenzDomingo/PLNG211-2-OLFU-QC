{
  "nbformat": 4,
  "nbformat_minor": 0,
  "metadata": {
    "colab": {
      "provenance": [],
      "authorship_tag": "ABX9TyPZhmOY2Jx52zUUKANvLF2D",
      "include_colab_link": true
    },
    "kernelspec": {
      "name": "python3",
      "display_name": "Python 3"
    },
    "language_info": {
      "name": "python"
    }
  },
  "cells": [
    {
      "cell_type": "markdown",
      "metadata": {
        "id": "view-in-github",
        "colab_type": "text"
      },
      "source": [
        "<a href=\"https://colab.research.google.com/github/RenzDomingo/PLNG211-2-OLFU-QC/blob/main/Laboratory_Act_No2_Finals.ipynb\" target=\"_parent\"><img src=\"https://colab.research.google.com/assets/colab-badge.svg\" alt=\"Open In Colab\"/></a>"
      ]
    },
    {
      "cell_type": "code",
      "execution_count": 2,
      "metadata": {
        "colab": {
          "base_uri": "https://localhost:8080/"
        },
        "id": "eZep3_4Dqf11",
        "outputId": "9f3434c9-8af5-40d6-e753-e0761806c3c9"
      },
      "outputs": [
        {
          "output_type": "stream",
          "name": "stdout",
          "text": [
            "Hi, my name is Renz Domingo\n",
            "My student number is 02210005828\n",
            "I am 20 years old\n",
            "My course is BSCS in Our Lady of Fatima University\n"
          ]
        }
      ],
      "source": [
        "class Student:\n",
        "  name = \"Renz Domingo\"\n",
        "  stud_num = \"02210005828\"\n",
        "  age = \"20\"\n",
        "  school = \"Our Lady of Fatima University\"\n",
        "  course = \"BSCS\"\n",
        "\n",
        "  def info(self):\n",
        "    print(\"Hi, my name is \" + self.name)\n",
        "    print(\"My student number is \" + self.stud_num)\n",
        "    print(\"I am \" + self.age + \" years old\")\n",
        "    print(\"My course is \" + self.course + \" in \" + self.school)\n",
        "p1 = Student()\n",
        "\n",
        "p1.info()"
      ]
    }
  ]
}