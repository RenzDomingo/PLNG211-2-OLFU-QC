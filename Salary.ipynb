{
  "nbformat": 4,
  "nbformat_minor": 0,
  "metadata": {
    "colab": {
      "provenance": [],
      "collapsed_sections": [],
      "authorship_tag": "ABX9TyMNr1bqbI2812ACNAuicsSs",
      "include_colab_link": true
    },
    "kernelspec": {
      "name": "python3",
      "display_name": "Python 3"
    },
    "language_info": {
      "name": "python"
    }
  },
  "cells": [
    {
      "cell_type": "markdown",
      "metadata": {
        "id": "view-in-github",
        "colab_type": "text"
      },
      "source": [
        "<a href=\"https://colab.research.google.com/github/RenzDomingo/PLNG211-2-OLFU-QC/blob/main/Salary.ipynb\" target=\"_parent\"><img src=\"https://colab.research.google.com/assets/colab-badge.svg\" alt=\"Open In Colab\"/></a>"
      ]
    },
    {
      "cell_type": "code",
      "source": [
        "Salary_rate = 600\n",
        "Salary = Salary_rate*15\n",
        "Tax_percentage = .30\n",
        "Tax_amount = Salary * Tax_percentage\n",
        "Net_pay = Salary - Tax_amount\n",
        "\n",
        "print(\"Salary: \", Salary)\n",
        "\n",
        "print(\"\\nTax percentage deducted is 30%\")\n",
        "\n",
        "print(\"\\nTax amount deducted is\", Tax_amount)\n",
        "\n",
        "print(\"\\nYour total Net pay is\", Net_pay)"
      ],
      "metadata": {
        "colab": {
          "base_uri": "https://localhost:8080/"
        },
        "id": "baOEwDSqR5YQ",
        "outputId": "2ecb90a2-de19-480d-dc95-ab245b415e0a"
      },
      "execution_count": 1,
      "outputs": [
        {
          "output_type": "stream",
          "name": "stdout",
          "text": [
            "Salary:  9000\n",
            "\n",
            "Tax percentage deducted is 30%\n",
            "\n",
            "Tax amount deducted is 2700.0\n",
            "\n",
            "Your total Net pay is 6300.0\n"
          ]
        }
      ]
    }
  ]
}