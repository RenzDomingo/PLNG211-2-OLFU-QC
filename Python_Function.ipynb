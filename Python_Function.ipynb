{
  "nbformat": 4,
  "nbformat_minor": 0,
  "metadata": {
    "colab": {
      "provenance": [],
      "include_colab_link": true
    },
    "kernelspec": {
      "name": "python3",
      "display_name": "Python 3"
    },
    "language_info": {
      "name": "python"
    }
  },
  "cells": [
    {
      "cell_type": "markdown",
      "metadata": {
        "id": "view-in-github",
        "colab_type": "text"
      },
      "source": [
        "<a href=\"https://colab.research.google.com/github/RenzDomingo/PLNG211-2-OLFU-QC/blob/main/Python_Function.ipynb\" target=\"_parent\"><img src=\"https://colab.research.google.com/assets/colab-badge.svg\" alt=\"Open In Colab\"/></a>"
      ]
    },
    {
      "cell_type": "code",
      "execution_count": null,
      "metadata": {
        "colab": {
          "base_uri": "https://localhost:8080/"
        },
        "id": "VaSRYEm6fn1_",
        "outputId": "430adbda-a26a-4265-b0e1-42604783f9c0"
      },
      "outputs": [
        {
          "output_type": "stream",
          "name": "stdout",
          "text": [
            "100\n",
            "Fahrenheit to Celsius 37.78\n"
          ]
        }
      ],
      "source": [
        "#Creating own function\n",
        "\n",
        "def convert_to_celsius(fahrenheit):\n",
        "  return (fahrenheit-32)*5/9   #(100-32) *5/9\n",
        "\n",
        "fahrenheit = int(input())\n",
        "print(\"Fahrenheit to Celsius\",round(convert_to_celsius(fahrenheit),2))"
      ]
    },
    {
      "cell_type": "code",
      "source": [
        "#Create a function that will display three consecutive my_function values\n",
        "\n",
        "def my_function(fname):\n",
        "  print(fname+\"Sayo\")\n",
        "\n",
        "my_function(\"Maria\")\n",
        "my_function(\"Mam\")"
      ],
      "metadata": {
        "colab": {
          "base_uri": "https://localhost:8080/"
        },
        "id": "-mbGPFGnherU",
        "outputId": "79512831-bcc0-4ade-9fde-be36428ff5b2"
      },
      "execution_count": null,
      "outputs": [
        {
          "output_type": "stream",
          "name": "stdout",
          "text": [
            "MariaSayo\n",
            "MamSayo\n"
          ]
        }
      ]
    },
    {
      "cell_type": "code",
      "source": [
        "#Create an arithmetic function\n",
        "\n",
        "def myfunction(x):\n",
        "  return 5+x\n",
        "\n",
        "print(myfunction(3))\n",
        "print(myfunction(4))\n",
        "print(myfunction(5))"
      ],
      "metadata": {
        "colab": {
          "base_uri": "https://localhost:8080/"
        },
        "id": "MEpe-e6Oiixq",
        "outputId": "b6ed8ba1-405b-402f-b83b-4c336d8e2e85"
      },
      "execution_count": null,
      "outputs": [
        {
          "output_type": "stream",
          "name": "stdout",
          "text": [
            "8\n",
            "9\n",
            "10\n"
          ]
        }
      ]
    },
    {
      "cell_type": "code",
      "source": [
        "#Exercise 1\n",
        "\n"
      ],
      "metadata": {
        "id": "e9lsYDnlmF-g"
      },
      "execution_count": 1,
      "outputs": []
    },
    {
      "cell_type": "code",
      "source": [
        "def fun(element):\n",
        "    return(len(element))\n",
        " \n",
        "a =[2, 3 , 4]\n",
        "print(min(a))\n",
        "b =[2, -3, 4, 7, -5]\n",
        "print(max(b))\n",
        "c =[2, -3, min (4,7), 5]\n",
        "print (max(c))"
      ],
      "metadata": {
        "id": "F1EnH_Qqtm6G",
        "outputId": "a396304d-5ce2-4655-b841-72142875ab13",
        "colab": {
          "base_uri": "https://localhost:8080/"
        }
      },
      "execution_count": 2,
      "outputs": [
        {
          "output_type": "stream",
          "name": "stdout",
          "text": [
            "2\n",
            "7\n",
            "5\n"
          ]
        }
      ]
    },
    {
      "cell_type": "code",
      "source": [
        "#Exercise 2"
      ],
      "metadata": {
        "id": "0FKzFcPomHuV"
      },
      "execution_count": null,
      "outputs": []
    },
    {
      "cell_type": "code",
      "source": [
        "import math\n",
        "\n",
        "def sum(firstInt,secondInt,thirdInt):\n",
        "  return firstInt + secondInt + thirdInt\n",
        "def average(firstInt,secondInt,thirdInt):\n",
        "  return firstInt + secondInt + thirdInt/3\n",
        "def sumSquare(firstInt,secondInt,thirdInt):\n",
        "  return math.pow(firstInt,2) + math.pow(secondInt,2) + math.pow(thirdInt,2)\n",
        "\n",
        "firstInt= int(input())\n",
        "secondInt= int(input())\n",
        "thirdInt= int(input())\n",
        "\n",
        "print(\"Sum =\",sum(firstInt,secondInt,thirdInt))\n",
        "print(\"Average =\",average(firstInt,secondInt,thirdInt))\n",
        "print(\"Sum of Squares =\",sumSquare(firstInt,secondInt,thirdInt))"
      ],
      "metadata": {
        "id": "k2eopJMRt-F6",
        "outputId": "87a578ff-b909-4ab2-dc97-ee4cd6851c7c",
        "colab": {
          "base_uri": "https://localhost:8080/"
        }
      },
      "execution_count": 3,
      "outputs": [
        {
          "output_type": "stream",
          "name": "stdout",
          "text": [
            "2\n",
            "2\n",
            "1\n",
            "Sum = 5\n",
            "Average = 4.333333333333333\n",
            "Sum of Squares = 9.0\n"
          ]
        }
      ]
    },
    {
      "cell_type": "code",
      "source": [
        "#Application \n",
        "#Create formula of area of different shapes\n",
        "\n",
        "def rectangle(l,w):\n",
        "  return l*w\n",
        "\n",
        "l= int(input())\n",
        "w= int(input())\n",
        "\n",
        "def square(s):\n",
        "  return pow(s,2)\n",
        "\n",
        "\n",
        "\n",
        "print(rectangle(l,w))\n"
      ],
      "metadata": {
        "colab": {
          "base_uri": "https://localhost:8080/"
        },
        "id": "Gvzr_5r7mL1O",
        "outputId": "4ba2fbe7-0348-4b3a-bcec-edf247fbbeb2"
      },
      "execution_count": null,
      "outputs": [
        {
          "output_type": "stream",
          "name": "stdout",
          "text": [
            "5\n",
            "3\n",
            "15\n"
          ]
        }
      ]
    }
  ]
}