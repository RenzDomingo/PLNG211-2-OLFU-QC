{
  "nbformat": 4,
  "nbformat_minor": 0,
  "metadata": {
    "colab": {
      "provenance": [],
      "collapsed_sections": [],
      "authorship_tag": "ABX9TyOi593tm8qyClhO26AU8/qF",
      "include_colab_link": true
    },
    "kernelspec": {
      "name": "python3",
      "display_name": "Python 3"
    },
    "language_info": {
      "name": "python"
    }
  },
  "cells": [
    {
      "cell_type": "markdown",
      "metadata": {
        "id": "view-in-github",
        "colab_type": "text"
      },
      "source": [
        "<a href=\"https://colab.research.google.com/github/RenzDomingo/PLNG211-2-OLFU-QC/blob/main/Intro_to_Python.ipynb\" target=\"_parent\"><img src=\"https://colab.research.google.com/assets/colab-badge.svg\" alt=\"Open In Colab\"/></a>"
      ]
    },
    {
      "cell_type": "markdown",
      "source": [
        "Comment"
      ],
      "metadata": {
        "id": "-d8zC6dRLJ1S"
      }
    },
    {
      "cell_type": "code",
      "source": [
        "#This is a comment\n",
        "print (\"Hello, world\")\n"
      ],
      "metadata": {
        "colab": {
          "base_uri": "https://localhost:8080/"
        },
        "id": "plQjm4GlLL7_",
        "outputId": "ff77b557-55d0-4a11-c281-2a272adf35d6"
      },
      "execution_count": null,
      "outputs": [
        {
          "output_type": "stream",
          "name": "stdout",
          "text": [
            "Hello, world\n"
          ]
        }
      ]
    },
    {
      "cell_type": "markdown",
      "source": [
        "Python Variable"
      ],
      "metadata": {
        "id": "n3YdQ9UnLdCV"
      }
    },
    {
      "cell_type": "code",
      "source": [
        "#Single Variable\n",
        "a = 3\n",
        "b = -1\n",
        "\n",
        "a,b = 3,3\n"
      ],
      "metadata": {
        "id": "yCxteROQLfP2"
      },
      "execution_count": null,
      "outputs": []
    },
    {
      "cell_type": "code",
      "source": [
        "#Multiple Variable\n",
        "a,b= float(8),-1\n",
        "print (a)\n"
      ],
      "metadata": {
        "colab": {
          "base_uri": "https://localhost:8080/"
        },
        "id": "BH_b9DXiLk-H",
        "outputId": "6b99c53a-646a-43de-86df-21677d0076b1"
      },
      "execution_count": null,
      "outputs": [
        {
          "output_type": "stream",
          "name": "stdout",
          "text": [
            "8.0\n"
          ]
        }
      ]
    },
    {
      "cell_type": "code",
      "source": [
        "#string type\n",
        "c = \"mika\"\n",
        "c\n",
        "c = str('mika')\n",
        "\n",
        "print (c)\n",
        "print (c)\n",
        "print (c)\n"
      ],
      "metadata": {
        "colab": {
          "base_uri": "https://localhost:8080/"
        },
        "id": "tzRSXAbmLrFc",
        "outputId": "531c3f70-e222-46fe-b122-2db7649b9ccb"
      },
      "execution_count": null,
      "outputs": [
        {
          "output_type": "stream",
          "name": "stdout",
          "text": [
            "mika\n",
            "mika\n",
            "mika\n"
          ]
        }
      ]
    },
    {
      "cell_type": "markdown",
      "source": [
        "Type Function"
      ],
      "metadata": {
        "id": "tpvlfzOuLykQ"
      }
    },
    {
      "cell_type": "code",
      "source": [
        "print (type(c))\n"
      ],
      "metadata": {
        "colab": {
          "base_uri": "https://localhost:8080/"
        },
        "id": "6PxR_a1gLzs_",
        "outputId": "52964766-88ed-466e-94f9-726a452b0db9"
      },
      "execution_count": null,
      "outputs": [
        {
          "output_type": "stream",
          "name": "stdout",
          "text": [
            "<class 'str'>\n"
          ]
        }
      ]
    },
    {
      "cell_type": "code",
      "source": [
        "#Proper Indentation\n",
        "if 5>2:\n",
        "  print(\"5 is greater than 1\")\n"
      ],
      "metadata": {
        "colab": {
          "base_uri": "https://localhost:8080/"
        },
        "id": "F9kxAw3KMBIu",
        "outputId": "49d7944d-84e1-4c29-f758-b38ac6ee9fda"
      },
      "execution_count": null,
      "outputs": [
        {
          "output_type": "stream",
          "name": "stdout",
          "text": [
            "5 is greater than 1\n"
          ]
        }
      ]
    },
    {
      "cell_type": "markdown",
      "source": [
        "Single and Double Quote"
      ],
      "metadata": {
        "id": "nCZd15TiMDX4"
      }
    },
    {
      "cell_type": "code",
      "source": [
        "f= \"Jane\"\n",
        "j='Jane'\n",
        "\n",
        "print(f)\n",
        "print(j)\n"
      ],
      "metadata": {
        "colab": {
          "base_uri": "https://localhost:8080/"
        },
        "id": "qZtzwT8OMHJZ",
        "outputId": "efc11126-a3a3-4b73-85ff-5b12619ab2f1"
      },
      "execution_count": null,
      "outputs": [
        {
          "output_type": "stream",
          "name": "stdout",
          "text": [
            "Jane\n",
            "Jane\n"
          ]
        }
      ]
    },
    {
      "cell_type": "markdown",
      "source": [
        "Multiple Variables"
      ],
      "metadata": {
        "id": "fyGu6_YYMKe-"
      }
    },
    {
      "cell_type": "code",
      "source": [
        "x,y,z = 1,2,3\n",
        "\n",
        "print (x)\n",
        "print (y)\n",
        "print (z)\n"
      ],
      "metadata": {
        "colab": {
          "base_uri": "https://localhost:8080/"
        },
        "id": "abIroI5BMMHu",
        "outputId": "18787c36-8627-4e34-e748-f6dcda117405"
      },
      "execution_count": null,
      "outputs": [
        {
          "output_type": "stream",
          "name": "stdout",
          "text": [
            "1\n",
            "2\n",
            "3\n"
          ]
        }
      ]
    },
    {
      "cell_type": "markdown",
      "source": [
        "Single Values to Multiple Variables"
      ],
      "metadata": {
        "id": "6cfrSMrZMP0T"
      }
    },
    {
      "cell_type": "code",
      "source": [
        "x=y=z=\"python\"\n",
        "print (x)\n",
        "print (y)\n",
        "print (z)\n"
      ],
      "metadata": {
        "colab": {
          "base_uri": "https://localhost:8080/"
        },
        "id": "Zm8VgEQEMRz4",
        "outputId": "8a7628b9-4041-4b13-8be8-ab9637e86b81"
      },
      "execution_count": null,
      "outputs": [
        {
          "output_type": "stream",
          "name": "stdout",
          "text": [
            "python\n",
            "python\n",
            "python\n"
          ]
        }
      ]
    },
    {
      "cell_type": "markdown",
      "source": [
        "Output Variables"
      ],
      "metadata": {
        "id": "0YPgC8dZMVvW"
      }
    },
    {
      "cell_type": "code",
      "source": [
        "x= \"fun\"\n",
        "y= \"Python Programming is \"\n",
        "\n",
        "print (y + x)\n"
      ],
      "metadata": {
        "colab": {
          "base_uri": "https://localhost:8080/"
        },
        "id": "BzMLWV-WMWcY",
        "outputId": "b4fe4f13-0da2-4eb2-ddb4-1ec8ccd97661"
      },
      "execution_count": null,
      "outputs": [
        {
          "output_type": "stream",
          "name": "stdout",
          "text": [
            "Python Programming is fun\n"
          ]
        }
      ]
    },
    {
      "cell_type": "markdown",
      "source": [
        "Arithmetic Operations"
      ],
      "metadata": {
        "id": "XUVMcANbMaON"
      }
    },
    {
      "cell_type": "code",
      "source": [
        "a = 4%2\n",
        "print (a)\n",
        "b = 3//2\n",
        "print(b)\n",
        "\n",
        "c= 7\n",
        "print(c**2)\n"
      ],
      "metadata": {
        "colab": {
          "base_uri": "https://localhost:8080/"
        },
        "id": "TbYHTJRGMb0c",
        "outputId": "c98b767b-38ab-4f45-89b8-10536f3a14bd"
      },
      "execution_count": null,
      "outputs": [
        {
          "output_type": "stream",
          "name": "stdout",
          "text": [
            "0\n",
            "1\n",
            "49\n"
          ]
        }
      ]
    },
    {
      "cell_type": "markdown",
      "source": [
        "Assignment Operations"
      ],
      "metadata": {
        "id": "rq7NpyEFMfQy"
      }
    },
    {
      "cell_type": "code",
      "source": [
        "c = 5 \n",
        "c+=3\n",
        "print(c)\n"
      ],
      "metadata": {
        "colab": {
          "base_uri": "https://localhost:8080/"
        },
        "id": "3NlMOLTpMg5x",
        "outputId": "877c125e-73aa-4da0-c845-2adf689549ea"
      },
      "execution_count": null,
      "outputs": [
        {
          "output_type": "stream",
          "name": "stdout",
          "text": [
            "8\n"
          ]
        }
      ]
    },
    {
      "cell_type": "markdown",
      "source": [
        "Comparison Operators"
      ],
      "metadata": {
        "id": "_bCKU8zYMjH3"
      }
    },
    {
      "cell_type": "code",
      "source": [
        "i =5>2\n",
        "h=3>5\n",
        "print (i)\n",
        "print(h)\n",
        "\n",
        "not (i or h)\n"
      ],
      "metadata": {
        "colab": {
          "base_uri": "https://localhost:8080/"
        },
        "id": "cst7BD3SMmM-",
        "outputId": "bc68f88b-18d1-41d4-a795-df5d24534fc7"
      },
      "execution_count": null,
      "outputs": [
        {
          "output_type": "stream",
          "name": "stdout",
          "text": [
            "True\n",
            "False\n"
          ]
        },
        {
          "output_type": "execute_result",
          "data": {
            "text/plain": [
              "False"
            ]
          },
          "metadata": {},
          "execution_count": 15
        }
      ]
    },
    {
      "cell_type": "markdown",
      "source": [
        "Identity Operators"
      ],
      "metadata": {
        "id": "t5tCmxAXMotY"
      }
    },
    {
      "cell_type": "code",
      "source": [
        "i is not h"
      ],
      "metadata": {
        "colab": {
          "base_uri": "https://localhost:8080/"
        },
        "id": "UzupNRhlMqOT",
        "outputId": "02479d66-e899-45e5-b34a-cbf2a1817870"
      },
      "execution_count": null,
      "outputs": [
        {
          "output_type": "execute_result",
          "data": {
            "text/plain": [
              "True"
            ]
          },
          "metadata": {},
          "execution_count": 16
        }
      ]
    },
    {
      "cell_type": "markdown",
      "source": [
        "Bitwise Operators"
      ],
      "metadata": {
        "id": "U88-QHJ9Mr7u"
      }
    },
    {
      "cell_type": "code",
      "source": [
        "v = 10\n",
        "v<<2\n",
        "print (v)\n",
        "y = 2\n",
        "\n",
        "y>> 1\n"
      ],
      "metadata": {
        "colab": {
          "base_uri": "https://localhost:8080/"
        },
        "id": "4zDTeVisMtin",
        "outputId": "69e99e7a-1c94-4b0b-97b9-24b02944f663"
      },
      "execution_count": null,
      "outputs": [
        {
          "output_type": "stream",
          "name": "stdout",
          "text": [
            "10\n"
          ]
        },
        {
          "output_type": "execute_result",
          "data": {
            "text/plain": [
              "1"
            ]
          },
          "metadata": {},
          "execution_count": 17
        }
      ]
    }
  ]
}